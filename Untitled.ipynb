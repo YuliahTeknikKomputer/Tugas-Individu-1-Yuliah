{
 "cells": [
  {
   "cell_type": "code",
   "execution_count": 47,
   "id": "bb059cb1-7d07-4148-934e-a16090f8fece",
   "metadata": {},
   "outputs": [
    {
     "name": "stdout",
     "output_type": "stream",
     "text": [
      "There are 25 no of faces in this image\n"
     ]
    },
    {
     "data": {
      "text/plain": [
       "-1"
      ]
     },
     "execution_count": 47,
     "metadata": {},
     "output_type": "execute_result"
    }
   ],
   "source": [
    "import cv2\n",
    "import face_recognition\n",
    "\n",
    "#loading the image to detect\n",
    "original_image = cv2.imread('Images/testing/kelas ML.jpg')\n",
    "\n",
    "#load the sample images and get the 128 face embeddings from them\n",
    "yuliah_image = face_recognition.load_image_file('Images/Samples/yuliah.jpeg')\n",
    "yuliah_face_encodings = face_recognition.face_encodings(yuliah_image)[0]\n",
    "\n",
    "fifi_image = face_recognition.load_image_file('Images/Samples/fifi.jpeg')\n",
    "fifi_face_encodings = face_recognition.face_encodings(fifi_image)[0]\n",
    "\n",
    "helmi_image = face_recognition.load_image_file('Images/Samples/helmi.jpeg')\n",
    "helmi_face_encodings = face_recognition.face_encodings(helmi_image)[0]\n",
    "\n",
    "retno_image = face_recognition.load_image_file('Images/Samples/retno.jpeg')\n",
    "retno_face_encodings = face_recognition.face_encodings(retno_image)[0]\n",
    "\n",
    "uci_image = face_recognition.load_image_file('Images/Samples/uci.jpeg')\n",
    "uci_face_encodings = face_recognition.face_encodings(uci_image)[0]\n",
    "\n",
    "juan_image = face_recognition.load_image_file('Images/Samples/juan.jpeg')\n",
    "juan_face_encodings = face_recognition.face_encodings(juan_image)[0]\n",
    "\n",
    "#save the encodings and the corresponding labels in seperate arrays in the same order\n",
    "known_face_encodings = [yuliah_face_encodings, fifi_face_encodings, helmi_face_encodings, retno_face_encodings, uci_face_encodings, juan_face_encodings]\n",
    "known_face_names = [\"Yuliah\", \"Fifi Y\", \"Helmi YS\", \"Retno Widya\", \"Uci TK\", \"Juan FA\"]\n",
    "known_face_npm = [\"56202012011\", \"56202012025\", \"56202012006\", \"56202012021\", \"56202012035\", \"56202012027\"]\n",
    "\n",
    "#load the unknown image to recognize faces in it\n",
    "image_to_recognize = face_recognition.load_image_file('Images/testing/kelas ML.jpg')\n",
    "\n",
    "#detect all faces in the image\n",
    "#arguments are image,no_of_times_to_upsample, model\n",
    "all_face_locations = face_recognition.face_locations(image_to_recognize,model='hog')\n",
    "#detect face encodings for all the faces detected\n",
    "all_face_encodings = face_recognition.face_encodings(image_to_recognize,all_face_locations)\n",
    "\n",
    "#print the number of faces detected\n",
    "print('There are {} no of faces in this image'.format(len(all_face_locations)))\n",
    "\n",
    "#looping through the face locations and the face embeddings\n",
    "for current_face_location,current_face_encoding in zip(all_face_locations,all_face_encodings):\n",
    "    #splitting the tuple to get the four position values of current face\n",
    "    top_pos,right_pos,bottom_pos,left_pos = current_face_location\n",
    "    \n",
    "    \n",
    "    #find all the matches and get the list of matches\n",
    "    all_matches = face_recognition.compare_faces(known_face_encodings, current_face_encoding)\n",
    "   \n",
    "    #string to hold the label\n",
    "    name_of_person = 'Unknown'\n",
    "    npm_of_person = ' '\n",
    "    #check if the all_matches have at least one item\n",
    "    #if yes, get the index number of face that is located in the first index of all_matches\n",
    "    #get the name corresponding to the index number and save it in name_of_person\n",
    "    if True in all_matches:\n",
    "        first_match_index = all_matches.index(True)\n",
    "        name_of_person = known_face_names[first_match_index]\n",
    "        npm_of_person = known_face_npm[first_match_index]\n",
    "    \n",
    "    #draw rectangle around the face    \n",
    "    cv2.rectangle(original_image,(left_pos,top_pos),(right_pos,bottom_pos),(255,0,0),2)\n",
    "    \n",
    "    #display the name as text in the image\n",
    "    font = cv2.FONT_HERSHEY_DUPLEX\n",
    "    cv2.putText(original_image, name_of_person, (left_pos,bottom_pos), font, 0.4, (255,255,255),1)\n",
    "    cv2.putText(original_image, npm_of_person, (left_pos,top_pos), font, 0.3, (255,255,255),1)\n",
    "    \n",
    "    #display the image\n",
    "    cv2.imshow(\"Faces Identified\",original_image)\n",
    "cv2.waitKey(0); cv2.destroyAllWindows(); cv2.waitKey(1)"
   ]
  },
  {
   "cell_type": "code",
   "execution_count": null,
   "id": "2b6e0d22-081b-4498-bcc3-1e198164f90e",
   "metadata": {},
   "outputs": [],
   "source": []
  },
  {
   "cell_type": "code",
   "execution_count": null,
   "id": "04e53973-615f-402f-9f3c-9c8c98ec5fa8",
   "metadata": {},
   "outputs": [],
   "source": []
  }
 ],
 "metadata": {
  "kernelspec": {
   "display_name": "Python 3 (ipykernel)",
   "language": "python",
   "name": "python3"
  },
  "language_info": {
   "codemirror_mode": {
    "name": "ipython",
    "version": 3
   },
   "file_extension": ".py",
   "mimetype": "text/x-python",
   "name": "python",
   "nbconvert_exporter": "python",
   "pygments_lexer": "ipython3",
   "version": "3.10.4"
  }
 },
 "nbformat": 4,
 "nbformat_minor": 5
}
